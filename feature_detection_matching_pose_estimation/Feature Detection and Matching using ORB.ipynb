{
 "cells": [
  {
   "cell_type": "markdown",
   "id": "d2b583bd",
   "metadata": {},
   "source": [
    "In this, it is checked whether the images are same by matching the fetaures"
   ]
  },
  {
   "cell_type": "code",
   "execution_count": 1,
   "id": "1696b303",
   "metadata": {},
   "outputs": [],
   "source": [
    "import cv2\n",
    "import numpy\n",
    "import os"
   ]
  },
  {
   "cell_type": "code",
   "execution_count": 2,
   "id": "3583eaa4",
   "metadata": {},
   "outputs": [],
   "source": [
    "train_folder_path = \"Train/\"\n",
    "\n",
    "query_folder_path = \"Query/\""
   ]
  },
  {
   "cell_type": "code",
   "execution_count": 3,
   "id": "123e35d5",
   "metadata": {},
   "outputs": [],
   "source": [
    "orb = cv2.ORB_create(nfeatures=900, nlevels=5)\n",
    "\n",
    "class_name = []"
   ]
  },
  {
   "cell_type": "code",
   "execution_count": 4,
   "id": "fecb9e52",
   "metadata": {},
   "outputs": [],
   "source": [
    "orb = cv2.ORB_create(nfeatures=900, nlevels=5)\n",
    "\n",
    "class_name = []"
   ]
  },
  {
   "cell_type": "code",
   "execution_count": 5,
   "id": "9d9889f2",
   "metadata": {},
   "outputs": [],
   "source": [
    "all_train_images = os.listdir(train_folder_path)\n",
    "get_all_train_images_path = []\n",
    "\n",
    "for i in all_train_images:\n",
    "    img = cv2.imread(train_folder_path + '/'  + i)\n",
    "    h,w,c = img.shape\n",
    "    ratio = 800/w\n",
    "    dim = (800, int(h * ratio))\n",
    "    img = cv2.resize(img, dim)\n",
    "    get_all_train_images_path.append(img)\n"
   ]
  },
  {
   "cell_type": "code",
   "execution_count": 6,
   "id": "4988097f",
   "metadata": {},
   "outputs": [],
   "source": [
    "all_query_images = os.listdir(query_folder_path)\n",
    "get_all_query_images_path = []\n",
    "\n",
    "for i in all_query_images:\n",
    "    img = cv2.imread(query_folder_path + '/'  + i)\n",
    "    h,w,c = img.shape\n",
    "    ratio = 800/w\n",
    "    dim = (800, int(h * ratio))\n",
    "    img = cv2.resize(img, dim)\n",
    "    get_all_query_images_path.append(img)\n",
    "    class_name.append(os.path.splitext(i)[0])\n"
   ]
  },
  {
   "cell_type": "code",
   "execution_count": 7,
   "id": "f8ff7369",
   "metadata": {},
   "outputs": [],
   "source": [
    "def descriptor_list(images):\n",
    "    des_list = []\n",
    "    \n",
    "    for i in images:\n",
    "        kp1, des1 = orb.detectAndCompute(i, None)\n",
    "        des_list.append(des1)\n",
    "    return des_list"
   ]
  },
  {
   "cell_type": "code",
   "execution_count": 8,
   "id": "08c72cf2",
   "metadata": {},
   "outputs": [],
   "source": [
    "def find_id(img, des_list, threshold=15):\n",
    "    matches_list = []\n",
    "    good_match = []\n",
    "    best_match = []\n",
    "    final_val = -1\n",
    "    kp2, des2 = orb.detectAndCompute(img, None)\n",
    "    bf = cv2.BFMatcher()\n",
    "    \n",
    "    try:\n",
    "        for des1 in des_list:\n",
    "            matches_list.append(bf.knnMatch(des1,des2, k=2))\n",
    "\n",
    "        for matches in matches_list:\n",
    "            for i, j in matches:\n",
    "                if i.distance < 0.75*j.distance:\n",
    "                    good_match.append([i])\n",
    "            best_match.append(len(good_match))\n",
    "        print(best_match)\n",
    "        if len(best_match) != 0:\n",
    "            \n",
    "            if max(best_match) > threshold:\n",
    "                final_val = best_match.index(max(best_match))\n",
    "            \n",
    "            \n",
    "    except Exception as ex:\n",
    "        print(ex)\n",
    "    \n",
    "    return final_val\n",
    "        \n",
    "    "
   ]
  },
  {
   "cell_type": "code",
   "execution_count": 9,
   "id": "ec0cd5a3",
   "metadata": {},
   "outputs": [],
   "source": [
    "des_list = descriptor_list(get_all_query_images_path)"
   ]
  },
  {
   "cell_type": "code",
   "execution_count": 10,
   "id": "78c44c42",
   "metadata": {},
   "outputs": [
    {
     "name": "stdout",
     "output_type": "stream",
     "text": [
      "[33]\n",
      "image2\n"
     ]
    },
    {
     "data": {
      "text/plain": [
       "-1"
      ]
     },
     "execution_count": 10,
     "metadata": {},
     "output_type": "execute_result"
    }
   ],
   "source": [
    "##Using image:\n",
    "img = cv2.imread('Train/image1.jpg')\n",
    "\n",
    "img_id = find_id(img, des_list)\n",
    "if img_id != -1:\n",
    "    print(class_name[img_id])\n",
    "cv2.waitKey(0)"
   ]
  },
  {
   "cell_type": "code",
   "execution_count": 11,
   "id": "0a8279eb",
   "metadata": {},
   "outputs": [],
   "source": [
    "# ##Using Webcam:\n",
    "# cap = cv2.VideoCapture(0)\n",
    "# cap.set(3,640)\n",
    "# cap.set(4,480)\n",
    "# while(True):\n",
    "#     success, img = cap.read()\n",
    "#     cv2.imshow(\"Video\",img)\n",
    "#     img_id = find_id(img, des_list)\n",
    "#     if img_id != -1:\n",
    "#         print(class_name[img_id])\n",
    "#     cv2.waitKey(1)"
   ]
  }
 ],
 "metadata": {
  "kernelspec": {
   "display_name": "Python 3",
   "language": "python",
   "name": "python3"
  },
  "language_info": {
   "codemirror_mode": {
    "name": "ipython",
    "version": 3
   },
   "file_extension": ".py",
   "mimetype": "text/x-python",
   "name": "python",
   "nbconvert_exporter": "python",
   "pygments_lexer": "ipython3",
   "version": "3.9.0"
  }
 },
 "nbformat": 4,
 "nbformat_minor": 5
}
